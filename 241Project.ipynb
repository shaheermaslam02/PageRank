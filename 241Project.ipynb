{
 "cells": [
  {
   "cell_type": "markdown",
   "metadata": {},
   "source": [
    "# Markov Chains, Random Walks and PageRank\n",
    "\n",
    "The purpose of this notebook is to explore the algorithm of PageRank, developed by Google, and create toy examples while exploring extensive concepts like Markov matrices, probability and ranking websites.\n",
    "\n",
    "## Importing Libraries\n",
    "\n",
    "Here we import all necessary libraries."
   ]
  },
  {
   "cell_type": "code",
   "execution_count": 1,
   "metadata": {},
   "outputs": [],
   "source": [
    "using LinearAlgebra"
   ]
  },
  {
   "cell_type": "markdown",
   "metadata": {},
   "source": [
    "The following is just experimental code."
   ]
  },
  {
   "cell_type": "code",
   "execution_count": 2,
   "metadata": {},
   "outputs": [
    {
     "data": {
      "text/plain": [
       "4×4 transpose(::Matrix{Int64}) with eltype Int64:\n",
       " 0  1  0  0\n",
       " 1  0  0  1\n",
       " 1  0  0  1\n",
       " 1  1  1  0"
      ]
     },
     "execution_count": 2,
     "metadata": {},
     "output_type": "execute_result"
    }
   ],
   "source": [
    "# inputs, ask for # of websites, # of links per website\n",
    "# let # of websites = w\n",
    "a = [0, 1, 1, 1]\n",
    "b = [1, 0, 0, 1]\n",
    "c = [0, 0, 0, 1]\n",
    "d = [0, 1, 1, 0]\n",
    "# normalize by factor of transpose row * row so dot product of self\n",
    "m = [transpose(a); transpose(b); transpose(c); transpose(d)]\n",
    "m = transpose(m)\n",
    "m\n",
    "# create the link matrix\n",
    "\n",
    "# vector r would be vector of ones with size w x 1, and divide by w\n",
    "\n",
    "# find steady state vector, pagerank function using set number of iterations\n",
    "# while loop: if last vector == current vector, break loop cause we've approached steady state\n",
    "# rank lists by percentage in steady state vector"
   ]
  },
  {
   "cell_type": "markdown",
   "metadata": {},
   "source": [
    "## Processing\n",
    "\n",
    "We create algorithms to process and conduct a mini PageRank."
   ]
  },
  {
   "cell_type": "code",
   "execution_count": 32,
   "metadata": {},
   "outputs": [
    {
     "data": {
      "text/plain": [
       "userInput (generic function with 2 methods)"
      ]
     },
     "execution_count": 32,
     "metadata": {},
     "output_type": "execute_result"
    }
   ],
   "source": [
    "# function userInput which gets user input, processing into L matrix\n",
    "function userInput()\n",
    "    # getting number of sites\n",
    "    #println(\"How many websites do you have?\")\n",
    "    #websites = readline()\n",
    "    #websites = parse(Int, websites)\n",
    "    println(\"You have five websites.\")\n",
    "    websites = 5\n",
    "    println(\"Format: 2 3 4 (website 1 points to 2, 3, 4)\")\n",
    "    \n",
    "    v1 = []\n",
    "    v2 = []\n",
    "    v3 = []\n",
    "    v4 = []\n",
    "    v5 = []\n",
    "    \n",
    "    # iterating through sites\n",
    "    for i in 1:websites\n",
    "        # getting links each site points to\n",
    "        print(\"For website number \")\n",
    "        print(i)\n",
    "        println(\" input the links which it points to.\")\n",
    "        links = readline()\n",
    "        # converting input to array \n",
    "        arr = split(links, \" \")\n",
    "        tempVector = zeros(websites, 1)\n",
    "        # looping through links\n",
    "        for j in arr\n",
    "            number = parse(Int, j)\n",
    "            # normalizing and inputting into vector\n",
    "            tempVector[number] = 1/length(arr)\n",
    "            if i == 1\n",
    "                v1 = tempVector\n",
    "            elseif i == 2\n",
    "                v2 = tempVector\n",
    "            elseif i == 3\n",
    "                v3 = tempVector\n",
    "            elseif i == 4\n",
    "                v4 = tempVector\n",
    "            elseif i == 5\n",
    "                v5 = tempVector\n",
    "            end\n",
    "        end\n",
    "    end\n",
    "    \n",
    "    L = [reshape(v1, 1, :); reshape(v2, 1, :); reshape(v3, 1, :); reshape(v4, 1, :); reshape(v5, 1, :);]\n",
    "    \n",
    "    return L\n",
    "end"
   ]
  },
  {
   "cell_type": "markdown",
   "metadata": {},
   "source": [
    "### Using Functions\n",
    "\n",
    "Here, we assign variables to our functions and use them as such."
   ]
  },
  {
   "cell_type": "code",
   "execution_count": 4,
   "metadata": {},
   "outputs": [
    {
     "name": "stdout",
     "output_type": "stream",
     "text": [
      "You have five websites.\n",
      "Format: 2 3 4 (website 1 points to 2, 3, 4)\n",
      "For website number 1 input the links which it points to.\n"
     ]
    },
    {
     "name": "stdin",
     "output_type": "stream",
     "text": [
      "stdin>  2 3 4\n"
     ]
    },
    {
     "name": "stdout",
     "output_type": "stream",
     "text": [
      "For website number 2 input the links which it points to.\n"
     ]
    },
    {
     "name": "stdin",
     "output_type": "stream",
     "text": [
      "stdin>  1 3 4\n"
     ]
    },
    {
     "name": "stdout",
     "output_type": "stream",
     "text": [
      "For website number 3 input the links which it points to.\n"
     ]
    },
    {
     "name": "stdin",
     "output_type": "stream",
     "text": [
      "stdin>  2 5\n"
     ]
    },
    {
     "name": "stdout",
     "output_type": "stream",
     "text": [
      "For website number 4 input the links which it points to.\n"
     ]
    },
    {
     "name": "stdin",
     "output_type": "stream",
     "text": [
      "stdin>  5\n"
     ]
    },
    {
     "name": "stdout",
     "output_type": "stream",
     "text": [
      "For website number 5 input the links which it points to.\n"
     ]
    },
    {
     "name": "stdin",
     "output_type": "stream",
     "text": [
      "stdin>  1\n"
     ]
    },
    {
     "data": {
      "text/plain": [
       "5×5 transpose(::Matrix{Float64}) with eltype Float64:\n",
       " 0.0       0.333333  0.0  0.0  1.0\n",
       " 0.333333  0.0       0.5  0.0  0.0\n",
       " 0.333333  0.333333  0.0  0.0  0.0\n",
       " 0.333333  0.333333  0.0  0.0  0.0\n",
       " 0.0       0.0       0.5  1.0  0.0"
      ]
     },
     "execution_count": 4,
     "metadata": {},
     "output_type": "execute_result"
    }
   ],
   "source": [
    "# this is our L matrix\n",
    "L = transpose(userInput())"
   ]
  },
  {
   "cell_type": "code",
   "execution_count": 5,
   "metadata": {},
   "outputs": [],
   "source": [
    "# this is our r vector\n",
    "r = ones(5, 1)\n",
    "for i in 1:length(r)\n",
    "    r[i] = r[i]/5\n",
    "end"
   ]
  },
  {
   "cell_type": "markdown",
   "metadata": {},
   "source": [
    "Now, we create our Page Rank algorithm."
   ]
  },
  {
   "cell_type": "code",
   "execution_count": 6,
   "metadata": {},
   "outputs": [
    {
     "data": {
      "text/plain": [
       "PageRank (generic function with 1 method)"
      ]
     },
     "execution_count": 6,
     "metadata": {},
     "output_type": "execute_result"
    }
   ],
   "source": [
    "function PageRank(L, r, iterations)\n",
    "    # initial rank vector\n",
    "    v = r\n",
    "    # apply ranks\n",
    "    for i in 1:iterations\n",
    "        v = L * v\n",
    "    end\n",
    "    sorted = sort!(copy(v), dims = 1, rev = true)\n",
    "    ranks = []\n",
    "    for i in sorted\n",
    "        for j in 1:5\n",
    "            if v[j] == i && j ∉ ranks\n",
    "                append!(ranks, j)\n",
    "            end\n",
    "        end\n",
    "    end\n",
    "    return v, ranks\n",
    "end"
   ]
  },
  {
   "cell_type": "code",
   "execution_count": 7,
   "metadata": {},
   "outputs": [
    {
     "name": "stdout",
     "output_type": "stream",
     "text": [
      "[0.2884615384615381; 0.17307692307692282; 0.15384615384615363; 0.15384615384615363; 0.23076923076923034]\n",
      "Any[1, 5, 2, 3, 4]\n"
     ]
    }
   ],
   "source": [
    "# using PageRank with 100 iterations\n",
    "v, ranks = PageRank(L, r, 100)\n",
    "# page ranks for each website, top being rank\n",
    "println(v)\n",
    "println(ranks)"
   ]
  },
  {
   "cell_type": "code",
   "execution_count": 8,
   "metadata": {},
   "outputs": [
    {
     "name": "stdout",
     "output_type": "stream",
     "text": [
      "[0.288461538461538; 0.1730769230769228; 0.15384615384615358; 0.15384615384615358; 0.23076923076923037]\n",
      "Any[1, 5, 2, 3, 4]\n"
     ]
    }
   ],
   "source": [
    "# using PageRank function with 200 iterations\n",
    "v2, ranks2 = PageRank(L, r, 200)\n",
    "# page ranks for each website, top being rank\n",
    "println(v2)\n",
    "println(ranks2)\n",
    "# can see that the steady state vector v2 does not change with more iterations"
   ]
  },
  {
   "cell_type": "markdown",
   "metadata": {},
   "source": [
    "### Extension\n",
    "\n",
    "We create the HITS algorithm as follows as an extension of what we've learned from PageRank."
   ]
  },
  {
   "cell_type": "code",
   "execution_count": 38,
   "metadata": {},
   "outputs": [
    {
     "data": {
      "text/plain": [
       "userInput2 (generic function with 1 method)"
      ]
     },
     "execution_count": 38,
     "metadata": {},
     "output_type": "execute_result"
    }
   ],
   "source": [
    "# function userInput which gets user input, processing into L matrix\n",
    "function userInput2()\n",
    "    # getting number of sites\n",
    "    #println(\"How many websites do you have?\")\n",
    "    #websites = readline()\n",
    "    #websites = parse(Int, websites)\n",
    "    println(\"You have five websites.\")\n",
    "    websites = 5\n",
    "    println(\"Format: 2 3 4 (website 1 points to 2, 3, 4)\")\n",
    "    \n",
    "    v1 = []\n",
    "    v2 = []\n",
    "    v3 = []\n",
    "    v4 = []\n",
    "    v5 = []\n",
    "    \n",
    "    # iterating through sites\n",
    "    for i in 1:websites\n",
    "        # getting links each site points to\n",
    "        print(\"For website number \")\n",
    "        print(i)\n",
    "        println(\" input the links which it points to.\")\n",
    "        links = readline()\n",
    "        # converting input to array \n",
    "        arr = split(links, \" \")\n",
    "        tempVector = []\n",
    "        # looping through links\n",
    "        for j in arr\n",
    "            number = parse(Int, j)\n",
    "            # normalizing and inputting into vector\n",
    "            append!(tempVector, number)\n",
    "            if i == 1\n",
    "                v1 = tempVector\n",
    "            elseif i == 2\n",
    "                v2 = tempVector\n",
    "            elseif i == 3\n",
    "                v3 = tempVector\n",
    "            elseif i == 4\n",
    "                v4 = tempVector\n",
    "            elseif i == 5\n",
    "                v5 = tempVector\n",
    "            end\n",
    "        end\n",
    "    end\n",
    "    \n",
    "    return [v1, v2, v3, v4, v5]\n",
    "end"
   ]
  },
  {
   "cell_type": "code",
   "execution_count": 40,
   "metadata": {},
   "outputs": [
    {
     "name": "stdout",
     "output_type": "stream",
     "text": [
      "You have five websites.\n",
      "Format: 2 3 4 (website 1 points to 2, 3, 4)\n",
      "For website number 1 input the links which it points to.\n"
     ]
    },
    {
     "name": "stdin",
     "output_type": "stream",
     "text": [
      "stdin>  2 3 4\n"
     ]
    },
    {
     "name": "stdout",
     "output_type": "stream",
     "text": [
      "For website number 2 input the links which it points to.\n"
     ]
    },
    {
     "name": "stdin",
     "output_type": "stream",
     "text": [
      "stdin>  1 3\n"
     ]
    },
    {
     "name": "stdout",
     "output_type": "stream",
     "text": [
      "For website number 3 input the links which it points to.\n"
     ]
    },
    {
     "name": "stdin",
     "output_type": "stream",
     "text": [
      "stdin>  4 5\n"
     ]
    },
    {
     "name": "stdout",
     "output_type": "stream",
     "text": [
      "For website number 4 input the links which it points to.\n"
     ]
    },
    {
     "name": "stdin",
     "output_type": "stream",
     "text": [
      "stdin>  3\n"
     ]
    },
    {
     "name": "stdout",
     "output_type": "stream",
     "text": [
      "For website number 5 input the links which it points to.\n"
     ]
    },
    {
     "name": "stdin",
     "output_type": "stream",
     "text": [
      "stdin>  1 2\n"
     ]
    },
    {
     "data": {
      "text/plain": [
       "5-element Vector{Vector{Any}}:\n",
       " [2, 3, 4]\n",
       " [1, 3]\n",
       " [4, 5]\n",
       " [3]\n",
       " [1, 2]"
      ]
     },
     "execution_count": 40,
     "metadata": {},
     "output_type": "execute_result"
    }
   ],
   "source": [
    "# creating another matrix of websites and sites using \n",
    "all = userInput2()\n",
    "all"
   ]
  },
  {
   "cell_type": "code",
   "execution_count": 62,
   "metadata": {},
   "outputs": [
    {
     "data": {
      "text/plain": [
       "hits (generic function with 1 method)"
      ]
     },
     "execution_count": 62,
     "metadata": {},
     "output_type": "execute_result"
    }
   ],
   "source": [
    "function hits(all, iterations)\n",
    "    authority = [1.0, 1.0, 1.0, 1.0, 1.0]\n",
    "    hub = [1.0, 1.0, 1.0, 1.0, 1.0]\n",
    "    # number of iterations\n",
    "    for i in 1:iterations\n",
    "        # looping through each vector\n",
    "        for j in 1:length(all)\n",
    "            authoritySum = 0\n",
    "            hubSum = 0\n",
    "            # getting hub sum\n",
    "            for k in 1:length(all[j])\n",
    "                hubSum += authority[all[j][k]]\n",
    "            end\n",
    "            # getting authority sum\n",
    "            for n in 1:length(all)\n",
    "                if j in all[n]\n",
    "                    authoritySum += hub[n]\n",
    "                end\n",
    "            end\n",
    "            # setting authority and hub scores\n",
    "            authority[j] = hubSum\n",
    "            hub[j] = authoritySum\n",
    "        end\n",
    "        # normalizing the hubs and authorities\n",
    "        hubNormalize = 0\n",
    "        authorityNormalize = 0\n",
    "        for p in 1:5\n",
    "            hubNormalize += hub[p]*hub[p]\n",
    "            authorityNormalize += authority[p]*authority[p]\n",
    "        end\n",
    "        hubNormalize = sqrt(hubNormalize)\n",
    "        authorityNormalize = sqrt(authorityNormalize)\n",
    "        # setting authority scores and hub scores to normalized scores\n",
    "        for m in 1:5\n",
    "            hub[m] = hub[m]/hubNormalize\n",
    "            authority[m] = authority[m]/authorityNormalize\n",
    "        end\n",
    "    end\n",
    "    return authority, hub\n",
    "end"
   ]
  },
  {
   "cell_type": "code",
   "execution_count": 61,
   "metadata": {},
   "outputs": [
    {
     "name": "stdout",
     "output_type": "stream",
     "text": [
      "[0.31622776601683794, 0.41197382954115, 0.31622776601683794, 0.31622776601683794, 0.7282015955579879]\n",
      "[0.1418432865563541, 0.23813544426811079, 0.5034030184949825, 0.6452463050513365, 0.5034030184949825]\n"
     ]
    }
   ],
   "source": [
    "authority, hub = hits(all, 100)\n",
    "println(authority)\n",
    "println(hub)"
   ]
  },
  {
   "cell_type": "markdown",
   "metadata": {},
   "source": [
    "## References\n",
    "\n",
    "* https://en.wikipedia.org/wiki/PageRank#Simplified_algorithm\n",
    "* http://blog.kleinproject.org/?p=280 \n",
    "* https://www.youtube.com/watch?v=F5fcEtqysGs\n"
   ]
  }
 ],
 "metadata": {
  "kernelspec": {
   "display_name": "Julia 1.6.2",
   "language": "julia",
   "name": "julia-1.6"
  },
  "language_info": {
   "file_extension": ".jl",
   "mimetype": "application/julia",
   "name": "julia",
   "version": "1.6.2"
  }
 },
 "nbformat": 4,
 "nbformat_minor": 4
}
