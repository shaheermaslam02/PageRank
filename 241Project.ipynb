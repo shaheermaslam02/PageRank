{
 "cells": [
  {
   "cell_type": "markdown",
   "metadata": {},
   "source": [
    "# Markov Chains, Random Walks and PageRank\n",
    "\n",
    "The purpose of this notebook is to explore the algorithm of PageRank, developed by Google, and create toy examples while exploring extensive concepts like Markov matrices, probability and ranking websites.\n",
    "\n",
    "## Importing Libraries\n",
    "\n",
    "Here we import all necessary libraries."
   ]
  },
  {
   "cell_type": "code",
   "execution_count": 1,
   "metadata": {},
   "outputs": [],
   "source": [
    "using LinearAlgebra"
   ]
  },
  {
   "cell_type": "markdown",
   "metadata": {},
   "source": [
    "The following is just experimental code."
   ]
  },
  {
   "cell_type": "code",
   "execution_count": 2,
   "metadata": {},
   "outputs": [
    {
     "data": {
      "text/plain": [
       "4×4 transpose(::Matrix{Int64}) with eltype Int64:\n",
       " 0  1  0  0\n",
       " 1  0  0  1\n",
       " 1  0  0  1\n",
       " 1  1  1  0"
      ]
     },
     "execution_count": 2,
     "metadata": {},
     "output_type": "execute_result"
    }
   ],
   "source": [
    "# inputs, ask for # of websites, # of links per website\n",
    "# let # of websites = w\n",
    "a = [0, 1, 1, 1]\n",
    "b = [1, 0, 0, 1]\n",
    "c = [0, 0, 0, 1]\n",
    "d = [0, 1, 1, 0]\n",
    "# normalize by factor of transpose row * row so dot product of self\n",
    "m = [transpose(a); transpose(b); transpose(c); transpose(d)]\n",
    "m = transpose(m)\n",
    "m\n",
    "# create the link matrix\n",
    "\n",
    "# vector r would be vector of ones with size w x 1, and divide by w\n",
    "\n",
    "# find steady state vector, pagerank function using set number of iterations\n",
    "# while loop: if last vector == current vector, break loop cause we've approached steady state\n",
    "# rank lists by percentage in steady state vector"
   ]
  },
  {
   "cell_type": "markdown",
   "metadata": {},
   "source": [
    "## Processing\n",
    "\n",
    "We create algorithms to process and conduct a mini PageRank."
   ]
  },
  {
   "cell_type": "code",
   "execution_count": 3,
   "metadata": {},
   "outputs": [
    {
     "data": {
      "text/plain": [
       "userInput (generic function with 1 method)"
      ]
     },
     "execution_count": 3,
     "metadata": {},
     "output_type": "execute_result"
    }
   ],
   "source": [
    "# function userInput which gets user input, processing into L matrix\n",
    "function userInput()\n",
    "    # getting number of sites\n",
    "    #println(\"How many websites do you have?\")\n",
    "    #websites = readline()\n",
    "    #websites = parse(Int, websites)\n",
    "    println(\"You have five websites.\")\n",
    "    websites = 5\n",
    "    println(\"Format: 2 3 4 (website 1 points to 2, 3, 4)\")\n",
    "    \n",
    "    v1 = []\n",
    "    v2 = []\n",
    "    v3 = []\n",
    "    v4 = []\n",
    "    v5 = []\n",
    "    \n",
    "    # iterating through sites\n",
    "    for i in 1:websites\n",
    "        # getting links each site points to\n",
    "        print(\"For website number \")\n",
    "        print(i)\n",
    "        println(\" input the links which it points to.\")\n",
    "        links = readline()\n",
    "        # converting input to array \n",
    "        arr = split(links, \" \")\n",
    "        tempVector = zeros(websites, 1)\n",
    "        # looping through links\n",
    "        for j in arr\n",
    "            number = parse(Int, j)\n",
    "            # normalizing and inputting into vector\n",
    "            tempVector[number] = 1/length(arr)\n",
    "            if i == 1\n",
    "                v1 = tempVector\n",
    "            elseif i == 2\n",
    "                v2 = tempVector\n",
    "            elseif i == 3\n",
    "                v3 = tempVector\n",
    "            elseif i == 4\n",
    "                v4 = tempVector\n",
    "            elseif i == 5\n",
    "                v5 = tempVector\n",
    "            end\n",
    "        end\n",
    "    end\n",
    "    \n",
    "    L = [reshape(v1, 1, :); reshape(v2, 1, :); reshape(v3, 1, :); reshape(v4, 1, :); reshape(v5, 1, :);]\n",
    "    \n",
    "    return L\n",
    "end"
   ]
  },
  {
   "cell_type": "markdown",
   "metadata": {},
   "source": [
    "### Using Functions\n",
    "\n",
    "Here, we assign variables to our functions and use them as such."
   ]
  },
  {
   "cell_type": "code",
   "execution_count": 4,
   "metadata": {},
   "outputs": [
    {
     "name": "stdout",
     "output_type": "stream",
     "text": [
      "You have five websites.\n",
      "Format: 2 3 4 (website 1 points to 2, 3, 4)\n",
      "For website number 1 input the links which it points to.\n"
     ]
    },
    {
     "name": "stdin",
     "output_type": "stream",
     "text": [
      "stdin>  1 2 3\n"
     ]
    },
    {
     "name": "stdout",
     "output_type": "stream",
     "text": [
      "For website number 2 input the links which it points to.\n"
     ]
    },
    {
     "name": "stdin",
     "output_type": "stream",
     "text": [
      "stdin>  2 4\n"
     ]
    },
    {
     "name": "stdout",
     "output_type": "stream",
     "text": [
      "For website number 3 input the links which it points to.\n"
     ]
    },
    {
     "name": "stdin",
     "output_type": "stream",
     "text": [
      "stdin>  3 1\n"
     ]
    },
    {
     "name": "stdout",
     "output_type": "stream",
     "text": [
      "For website number 4 input the links which it points to.\n"
     ]
    },
    {
     "name": "stdin",
     "output_type": "stream",
     "text": [
      "stdin>  5\n"
     ]
    },
    {
     "name": "stdout",
     "output_type": "stream",
     "text": [
      "For website number 5 input the links which it points to.\n"
     ]
    },
    {
     "name": "stdin",
     "output_type": "stream",
     "text": [
      "stdin>  3 4\n"
     ]
    },
    {
     "data": {
      "text/plain": [
       "5×5 Matrix{Float64}:\n",
       " 0.333333  0.333333  0.333333  0.0  0.0\n",
       " 0.0       0.5       0.0       0.5  0.0\n",
       " 0.5       0.0       0.5       0.0  0.0\n",
       " 0.0       0.0       0.0       0.0  1.0\n",
       " 0.0       0.0       0.5       0.5  0.0"
      ]
     },
     "execution_count": 4,
     "metadata": {},
     "output_type": "execute_result"
    }
   ],
   "source": [
    "# this is our L matrix\n",
    "L = userInput()"
   ]
  },
  {
   "cell_type": "code",
   "execution_count": 5,
   "metadata": {},
   "outputs": [
    {
     "data": {
      "text/plain": [
       "5×5 transpose(::Matrix{Float64}) with eltype Float64:\n",
       " 0.333333  0.0  0.5  0.0  0.0\n",
       " 0.333333  0.5  0.0  0.0  0.0\n",
       " 0.333333  0.0  0.5  0.0  0.5\n",
       " 0.0       0.5  0.0  0.0  0.5\n",
       " 0.0       0.0  0.0  1.0  0.0"
      ]
     },
     "execution_count": 5,
     "metadata": {},
     "output_type": "execute_result"
    }
   ],
   "source": [
    "L = transpose(L)"
   ]
  },
  {
   "cell_type": "code",
   "execution_count": 6,
   "metadata": {},
   "outputs": [],
   "source": [
    "# this is our r vector\n",
    "r = ones(5, 1)\n",
    "for i in 1:length(r)\n",
    "    r[i] = r[i]/5\n",
    "end"
   ]
  },
  {
   "cell_type": "markdown",
   "metadata": {},
   "source": [
    "Now, we create our Page Rank algorithm."
   ]
  },
  {
   "cell_type": "code",
   "execution_count": 65,
   "metadata": {},
   "outputs": [
    {
     "data": {
      "text/plain": [
       "PageRank (generic function with 1 method)"
      ]
     },
     "execution_count": 65,
     "metadata": {},
     "output_type": "execute_result"
    }
   ],
   "source": [
    "function PageRank(L, r, iterations)\n",
    "    v = r\n",
    "    for i in 1:iterations\n",
    "        v = L * v\n",
    "    end\n",
    "    sorted = sort!(copy(v), dims = 1, rev = true)\n",
    "    ranks = []\n",
    "    for i in sorted\n",
    "        \n",
    "        for j in 1:5\n",
    "            if v[j] == i && j ∉ ranks\n",
    "                append!(ranks, j)\n",
    "            end\n",
    "        end\n",
    "    end\n",
    "    return v, ranks\n",
    "end"
   ]
  },
  {
   "cell_type": "code",
   "execution_count": 67,
   "metadata": {},
   "outputs": [
    {
     "name": "stdout",
     "output_type": "stream",
     "text": [
      "[0.2307692307692305; 0.1538461538461537; 0.3076923076923074; 0.1538461538461537; 0.1538461538461537]\n",
      "Any[3, 1, 2, 4, 5]\n"
     ]
    }
   ],
   "source": [
    "# using PageRank with 100 iterations\n",
    "v, ranks = PageRank(L, r, 100)\n",
    "# page ranks for each website, top being rank\n",
    "println(v)\n",
    "println(ranks)"
   ]
  },
  {
   "cell_type": "code",
   "execution_count": 68,
   "metadata": {},
   "outputs": [
    {
     "name": "stdout",
     "output_type": "stream",
     "text": [
      "[0.2307692307692305; 0.1538461538461537; 0.3076923076923074; 0.1538461538461537; 0.1538461538461537]\n",
      "Any[3, 1, 2, 4, 5]\n"
     ]
    }
   ],
   "source": [
    "# using PageRank function with 200 iterations\n",
    "v2, ranks2 = PageRank(L, r, 200)\n",
    "# page ranks for each website, top being rank\n",
    "println(v2)\n",
    "println(ranks2)\n",
    "# can see that the steady state vector v2 does not change with more iterations"
   ]
  },
  {
   "cell_type": "markdown",
   "metadata": {},
   "source": [
    "## References\n",
    "\n",
    "* https://en.wikipedia.org/wiki/PageRank#Simplified_algorithm\n",
    "* http://blog.kleinproject.org/?p=280 \n",
    "* https://www.youtube.com/watch?v=F5fcEtqysGs\n"
   ]
  }
 ],
 "metadata": {
  "kernelspec": {
   "display_name": "Julia 1.6.2",
   "language": "julia",
   "name": "julia-1.6"
  },
  "language_info": {
   "file_extension": ".jl",
   "mimetype": "application/julia",
   "name": "julia",
   "version": "1.6.2"
  }
 },
 "nbformat": 4,
 "nbformat_minor": 4
}
